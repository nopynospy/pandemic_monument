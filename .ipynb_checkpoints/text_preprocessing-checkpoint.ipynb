{
 "cells": [
  {
   "cell_type": "code",
   "execution_count": 1,
   "id": "37419ff1",
   "metadata": {},
   "outputs": [],
   "source": [
    "import pandas as pd"
   ]
  },
  {
   "cell_type": "code",
   "execution_count": 2,
   "id": "6f8bc97d",
   "metadata": {},
   "outputs": [
    {
     "data": {
      "text/html": [
       "<div>\n",
       "<style scoped>\n",
       "    .dataframe tbody tr th:only-of-type {\n",
       "        vertical-align: middle;\n",
       "    }\n",
       "\n",
       "    .dataframe tbody tr th {\n",
       "        vertical-align: top;\n",
       "    }\n",
       "\n",
       "    .dataframe thead th {\n",
       "        text-align: right;\n",
       "    }\n",
       "</style>\n",
       "<table border=\"1\" class=\"dataframe\">\n",
       "  <thead>\n",
       "    <tr style=\"text-align: right;\">\n",
       "      <th></th>\n",
       "      <th>Unnamed: 0</th>\n",
       "      <th>title</th>\n",
       "      <th>url</th>\n",
       "      <th>date</th>\n",
       "    </tr>\n",
       "  </thead>\n",
       "  <tbody>\n",
       "    <tr>\n",
       "      <th>0</th>\n",
       "      <td>0</td>\n",
       "      <td>Nov 19 decision on Zuraida’s bid to quash suit...</td>\n",
       "      <td>https://www.freemalaysiatoday.com/category/nat...</td>\n",
       "      <td>2021-10-06</td>\n",
       "    </tr>\n",
       "    <tr>\n",
       "      <th>1</th>\n",
       "      <td>1</td>\n",
       "      <td>Don’t force ‘irrelevant’ subjects on undergrad...</td>\n",
       "      <td>https://www.freemalaysiatoday.com/category/nat...</td>\n",
       "      <td>2021-10-06</td>\n",
       "    </tr>\n",
       "    <tr>\n",
       "      <th>2</th>\n",
       "      <td>2</td>\n",
       "      <td>Increasing ciggie prices will cost you dearly,...</td>\n",
       "      <td>https://www.freemalaysiatoday.com/category/nat...</td>\n",
       "      <td>2021-10-06</td>\n",
       "    </tr>\n",
       "    <tr>\n",
       "      <th>3</th>\n",
       "      <td>3</td>\n",
       "      <td>Govt to get views of MKN, EC and health minist...</td>\n",
       "      <td>https://www.freemalaysiatoday.com/category/nat...</td>\n",
       "      <td>2021-10-06</td>\n",
       "    </tr>\n",
       "    <tr>\n",
       "      <th>4</th>\n",
       "      <td>4</td>\n",
       "      <td>Pejuang needs to be race-based because of Umno...</td>\n",
       "      <td>https://www.freemalaysiatoday.com/category/nat...</td>\n",
       "      <td>2021-10-06</td>\n",
       "    </tr>\n",
       "  </tbody>\n",
       "</table>\n",
       "</div>"
      ],
      "text/plain": [
       "   Unnamed: 0                                              title  \\\n",
       "0           0  Nov 19 decision on Zuraida’s bid to quash suit...   \n",
       "1           1  Don’t force ‘irrelevant’ subjects on undergrad...   \n",
       "2           2  Increasing ciggie prices will cost you dearly,...   \n",
       "3           3  Govt to get views of MKN, EC and health minist...   \n",
       "4           4  Pejuang needs to be race-based because of Umno...   \n",
       "\n",
       "                                                 url        date  \n",
       "0  https://www.freemalaysiatoday.com/category/nat...  2021-10-06  \n",
       "1  https://www.freemalaysiatoday.com/category/nat...  2021-10-06  \n",
       "2  https://www.freemalaysiatoday.com/category/nat...  2021-10-06  \n",
       "3  https://www.freemalaysiatoday.com/category/nat...  2021-10-06  \n",
       "4  https://www.freemalaysiatoday.com/category/nat...  2021-10-06  "
      ]
     },
     "execution_count": 2,
     "metadata": {},
     "output_type": "execute_result"
    }
   ],
   "source": [
    "df = pd.read_csv(\"imputed_fmt.csv\")\n",
    "df.head()"
   ]
  },
  {
   "cell_type": "code",
   "execution_count": 3,
   "id": "8ae35969",
   "metadata": {},
   "outputs": [
    {
     "name": "stdout",
     "output_type": "stream",
     "text": [
      "['This', 'sample', 'sentence', 'showing', 'stop', 'words', 'filtration']\n"
     ]
    }
   ],
   "source": [
    "from nltk.corpus import stopwords\n",
    "from nltk.tokenize import word_tokenize\n",
    "import re\n",
    "\n",
    "stop_words = set(stopwords.words('english'))\n",
    "\n",
    "def clean_text(text):\n",
    "    text = \" \".join(re.split('\\W+', text))\n",
    "    word_tokens = word_tokenize(text)\n",
    "    filtered_sentence = [w for w in word_tokens if not w.lower() in stop_words]\n",
    "\n",
    "    filtered_sentence = []\n",
    "\n",
    "    for w in word_tokens:\n",
    "        if w not in stop_words:\n",
    "            filtered_sentence.append(w)\n",
    "            \n",
    "    return filtered_sentence\n",
    "\n",
    "print(clean_text(\"This is a sample sentence, showing off the stop words filtration.\"))"
   ]
  },
  {
   "cell_type": "code",
   "execution_count": 4,
   "id": "5eea272a",
   "metadata": {},
   "outputs": [
    {
     "data": {
      "text/html": [
       "<div>\n",
       "<style scoped>\n",
       "    .dataframe tbody tr th:only-of-type {\n",
       "        vertical-align: middle;\n",
       "    }\n",
       "\n",
       "    .dataframe tbody tr th {\n",
       "        vertical-align: top;\n",
       "    }\n",
       "\n",
       "    .dataframe thead th {\n",
       "        text-align: right;\n",
       "    }\n",
       "</style>\n",
       "<table border=\"1\" class=\"dataframe\">\n",
       "  <thead>\n",
       "    <tr style=\"text-align: right;\">\n",
       "      <th></th>\n",
       "      <th>Unnamed: 0</th>\n",
       "      <th>title</th>\n",
       "      <th>url</th>\n",
       "      <th>date</th>\n",
       "      <th>cleaned</th>\n",
       "    </tr>\n",
       "  </thead>\n",
       "  <tbody>\n",
       "    <tr>\n",
       "      <th>0</th>\n",
       "      <td>0</td>\n",
       "      <td>Nov 19 decision on Zuraida’s bid to quash suit...</td>\n",
       "      <td>https://www.freemalaysiatoday.com/category/nat...</td>\n",
       "      <td>2021-10-06</td>\n",
       "      <td>[Nov, 19, decision, Zuraida, bid, quash, suit,...</td>\n",
       "    </tr>\n",
       "    <tr>\n",
       "      <th>1</th>\n",
       "      <td>1</td>\n",
       "      <td>Don’t force ‘irrelevant’ subjects on undergrad...</td>\n",
       "      <td>https://www.freemalaysiatoday.com/category/nat...</td>\n",
       "      <td>2021-10-06</td>\n",
       "      <td>[Don, force, irrelevant, subjects, undergrads,...</td>\n",
       "    </tr>\n",
       "    <tr>\n",
       "      <th>2</th>\n",
       "      <td>2</td>\n",
       "      <td>Increasing ciggie prices will cost you dearly,...</td>\n",
       "      <td>https://www.freemalaysiatoday.com/category/nat...</td>\n",
       "      <td>2021-10-06</td>\n",
       "      <td>[Increasing, ciggie, prices, cost, dearly, gov...</td>\n",
       "    </tr>\n",
       "    <tr>\n",
       "      <th>3</th>\n",
       "      <td>3</td>\n",
       "      <td>Govt to get views of MKN, EC and health minist...</td>\n",
       "      <td>https://www.freemalaysiatoday.com/category/nat...</td>\n",
       "      <td>2021-10-06</td>\n",
       "      <td>[Govt, get, views, MKN, EC, health, ministry, ...</td>\n",
       "    </tr>\n",
       "    <tr>\n",
       "      <th>4</th>\n",
       "      <td>4</td>\n",
       "      <td>Pejuang needs to be race-based because of Umno...</td>\n",
       "      <td>https://www.freemalaysiatoday.com/category/nat...</td>\n",
       "      <td>2021-10-06</td>\n",
       "      <td>[Pejuang, needs, race, based, Umno, says, Dr, M]</td>\n",
       "    </tr>\n",
       "  </tbody>\n",
       "</table>\n",
       "</div>"
      ],
      "text/plain": [
       "   Unnamed: 0                                              title  \\\n",
       "0           0  Nov 19 decision on Zuraida’s bid to quash suit...   \n",
       "1           1  Don’t force ‘irrelevant’ subjects on undergrad...   \n",
       "2           2  Increasing ciggie prices will cost you dearly,...   \n",
       "3           3  Govt to get views of MKN, EC and health minist...   \n",
       "4           4  Pejuang needs to be race-based because of Umno...   \n",
       "\n",
       "                                                 url        date  \\\n",
       "0  https://www.freemalaysiatoday.com/category/nat...  2021-10-06   \n",
       "1  https://www.freemalaysiatoday.com/category/nat...  2021-10-06   \n",
       "2  https://www.freemalaysiatoday.com/category/nat...  2021-10-06   \n",
       "3  https://www.freemalaysiatoday.com/category/nat...  2021-10-06   \n",
       "4  https://www.freemalaysiatoday.com/category/nat...  2021-10-06   \n",
       "\n",
       "                                             cleaned  \n",
       "0  [Nov, 19, decision, Zuraida, bid, quash, suit,...  \n",
       "1  [Don, force, irrelevant, subjects, undergrads,...  \n",
       "2  [Increasing, ciggie, prices, cost, dearly, gov...  \n",
       "3  [Govt, get, views, MKN, EC, health, ministry, ...  \n",
       "4   [Pejuang, needs, race, based, Umno, says, Dr, M]  "
      ]
     },
     "execution_count": 4,
     "metadata": {},
     "output_type": "execute_result"
    }
   ],
   "source": [
    "df['cleaned'] = df['title'].apply(clean_text)\n",
    "df.head()"
   ]
  },
  {
   "cell_type": "code",
   "execution_count": 5,
   "id": "18ededd5",
   "metadata": {},
   "outputs": [],
   "source": [
    "df.to_csv(\"preprocessed.csv\")"
   ]
  },
  {
   "cell_type": "code",
   "execution_count": null,
   "id": "f241468f",
   "metadata": {},
   "outputs": [],
   "source": []
  }
 ],
 "metadata": {
  "kernelspec": {
   "display_name": "Python 3 (ipykernel)",
   "language": "python",
   "name": "python3"
  },
  "language_info": {
   "codemirror_mode": {
    "name": "ipython",
    "version": 3
   },
   "file_extension": ".py",
   "mimetype": "text/x-python",
   "name": "python",
   "nbconvert_exporter": "python",
   "pygments_lexer": "ipython3",
   "version": "3.8.10"
  }
 },
 "nbformat": 4,
 "nbformat_minor": 5
}

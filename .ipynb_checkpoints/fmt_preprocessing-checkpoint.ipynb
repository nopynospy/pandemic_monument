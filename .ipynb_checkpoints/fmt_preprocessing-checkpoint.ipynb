{
 "cells": [
  {
   "cell_type": "markdown",
   "id": "3779dfba",
   "metadata": {},
   "source": [
    "Having imputed the csv in df_impute.ipynb, I now perform text preprocessing."
   ]
  },
  {
   "cell_type": "code",
   "execution_count": 1,
   "id": "37419ff1",
   "metadata": {},
   "outputs": [],
   "source": [
    "import pandas as pd"
   ]
  },
  {
   "cell_type": "code",
   "execution_count": 2,
   "id": "6f8bc97d",
   "metadata": {},
   "outputs": [
    {
     "data": {
      "text/html": [
       "<div>\n",
       "<style scoped>\n",
       "    .dataframe tbody tr th:only-of-type {\n",
       "        vertical-align: middle;\n",
       "    }\n",
       "\n",
       "    .dataframe tbody tr th {\n",
       "        vertical-align: top;\n",
       "    }\n",
       "\n",
       "    .dataframe thead th {\n",
       "        text-align: right;\n",
       "    }\n",
       "</style>\n",
       "<table border=\"1\" class=\"dataframe\">\n",
       "  <thead>\n",
       "    <tr style=\"text-align: right;\">\n",
       "      <th></th>\n",
       "      <th>title</th>\n",
       "      <th>url</th>\n",
       "      <th>date</th>\n",
       "    </tr>\n",
       "  </thead>\n",
       "  <tbody>\n",
       "    <tr>\n",
       "      <th>0</th>\n",
       "      <td>Why remove gender discrimination reforms from ...</td>\n",
       "      <td>https://www.freemalaysiatoday.com/category/nat...</td>\n",
       "      <td>2021-10-29</td>\n",
       "    </tr>\n",
       "    <tr>\n",
       "      <th>1</th>\n",
       "      <td>6,060 new Covid-19 cases reported</td>\n",
       "      <td>https://www.freemalaysiatoday.com/category/nat...</td>\n",
       "      <td>2021-10-29</td>\n",
       "    </tr>\n",
       "    <tr>\n",
       "      <th>2</th>\n",
       "      <td>Don’t execute mentally disabled Malaysian, rig...</td>\n",
       "      <td>https://www.freemalaysiatoday.com/category/nat...</td>\n",
       "      <td>2021-10-29</td>\n",
       "    </tr>\n",
       "    <tr>\n",
       "      <th>3</th>\n",
       "      <td>Bar allowed to be ‘friends of the court’ in Na...</td>\n",
       "      <td>https://www.freemalaysiatoday.com/category/nat...</td>\n",
       "      <td>2021-10-29</td>\n",
       "    </tr>\n",
       "    <tr>\n",
       "      <th>4</th>\n",
       "      <td>Court fines retiree RM22,000 for failure to re...</td>\n",
       "      <td>https://www.freemalaysiatoday.com/category/nat...</td>\n",
       "      <td>2021-10-29</td>\n",
       "    </tr>\n",
       "  </tbody>\n",
       "</table>\n",
       "</div>"
      ],
      "text/plain": [
       "                                               title  \\\n",
       "0  Why remove gender discrimination reforms from ...   \n",
       "1                  6,060 new Covid-19 cases reported   \n",
       "2  Don’t execute mentally disabled Malaysian, rig...   \n",
       "3  Bar allowed to be ‘friends of the court’ in Na...   \n",
       "4  Court fines retiree RM22,000 for failure to re...   \n",
       "\n",
       "                                                 url        date  \n",
       "0  https://www.freemalaysiatoday.com/category/nat...  2021-10-29  \n",
       "1  https://www.freemalaysiatoday.com/category/nat...  2021-10-29  \n",
       "2  https://www.freemalaysiatoday.com/category/nat...  2021-10-29  \n",
       "3  https://www.freemalaysiatoday.com/category/nat...  2021-10-29  \n",
       "4  https://www.freemalaysiatoday.com/category/nat...  2021-10-29  "
      ]
     },
     "execution_count": 2,
     "metadata": {},
     "output_type": "execute_result"
    }
   ],
   "source": [
    "df = pd.read_csv(\"imputed_fmt_28-10-21.csv\")\n",
    "df.head()"
   ]
  },
  {
   "cell_type": "markdown",
   "id": "bb075c81",
   "metadata": {},
   "source": [
    "First I remove all commas, because figures such as 1,000 are common in news headlines. Then, I tokenize the headlines and remove stop words."
   ]
  },
  {
   "cell_type": "code",
   "execution_count": 3,
   "id": "8ae35969",
   "metadata": {},
   "outputs": [
    {
     "name": "stdout",
     "output_type": "stream",
     "text": [
      "sample, sentence, showing, stop, words, filtration\n"
     ]
    }
   ],
   "source": [
    "from nltk.corpus import stopwords\n",
    "from nltk.tokenize import word_tokenize\n",
    "import re\n",
    "import string\n",
    "\n",
    "stop_words = set(stopwords.words('english'))\n",
    "\n",
    "def clean_text(text):\n",
    "    text = text.replace(',', '')\n",
    "    text = \" \".join(re.split('\\W+', text))\n",
    "    word_tokens = word_tokenize(text)\n",
    "\n",
    "\n",
    "    filtered_sentence = []\n",
    "\n",
    "    filtered_sentence = [w for w in word_tokens if not w.lower() in stop_words]\n",
    "    filtered_sentence = [item for item in filtered_sentence if not item.isdigit()]\n",
    "            \n",
    "    return (\", \".join(filtered_sentence))\n",
    "\n",
    "print(clean_text(\"This is a sample sentence, showing off the stop words filtration.\"))"
   ]
  },
  {
   "cell_type": "code",
   "execution_count": 4,
   "id": "5eea272a",
   "metadata": {},
   "outputs": [
    {
     "data": {
      "text/html": [
       "<div>\n",
       "<style scoped>\n",
       "    .dataframe tbody tr th:only-of-type {\n",
       "        vertical-align: middle;\n",
       "    }\n",
       "\n",
       "    .dataframe tbody tr th {\n",
       "        vertical-align: top;\n",
       "    }\n",
       "\n",
       "    .dataframe thead th {\n",
       "        text-align: right;\n",
       "    }\n",
       "</style>\n",
       "<table border=\"1\" class=\"dataframe\">\n",
       "  <thead>\n",
       "    <tr style=\"text-align: right;\">\n",
       "      <th></th>\n",
       "      <th>title</th>\n",
       "      <th>url</th>\n",
       "      <th>date</th>\n",
       "      <th>cleaned</th>\n",
       "    </tr>\n",
       "  </thead>\n",
       "  <tbody>\n",
       "    <tr>\n",
       "      <th>0</th>\n",
       "      <td>Why remove gender discrimination reforms from ...</td>\n",
       "      <td>https://www.freemalaysiatoday.com/category/nat...</td>\n",
       "      <td>2021-10-29</td>\n",
       "      <td>remove, gender, discrimination, reforms, Emplo...</td>\n",
       "    </tr>\n",
       "    <tr>\n",
       "      <th>1</th>\n",
       "      <td>6,060 new Covid-19 cases reported</td>\n",
       "      <td>https://www.freemalaysiatoday.com/category/nat...</td>\n",
       "      <td>2021-10-29</td>\n",
       "      <td>new, Covid, cases, reported</td>\n",
       "    </tr>\n",
       "    <tr>\n",
       "      <th>2</th>\n",
       "      <td>Don’t execute mentally disabled Malaysian, rig...</td>\n",
       "      <td>https://www.freemalaysiatoday.com/category/nat...</td>\n",
       "      <td>2021-10-29</td>\n",
       "      <td>execute, mentally, disabled, Malaysian, rights...</td>\n",
       "    </tr>\n",
       "    <tr>\n",
       "      <th>3</th>\n",
       "      <td>Bar allowed to be ‘friends of the court’ in Na...</td>\n",
       "      <td>https://www.freemalaysiatoday.com/category/nat...</td>\n",
       "      <td>2021-10-29</td>\n",
       "      <td>Bar, allowed, friends, court, Najib, son, tax,...</td>\n",
       "    </tr>\n",
       "    <tr>\n",
       "      <th>4</th>\n",
       "      <td>Court fines retiree RM22,000 for failure to re...</td>\n",
       "      <td>https://www.freemalaysiatoday.com/category/nat...</td>\n",
       "      <td>2021-10-29</td>\n",
       "      <td>Court, fines, retiree, RM22000, failure, repor...</td>\n",
       "    </tr>\n",
       "  </tbody>\n",
       "</table>\n",
       "</div>"
      ],
      "text/plain": [
       "                                               title  \\\n",
       "0  Why remove gender discrimination reforms from ...   \n",
       "1                  6,060 new Covid-19 cases reported   \n",
       "2  Don’t execute mentally disabled Malaysian, rig...   \n",
       "3  Bar allowed to be ‘friends of the court’ in Na...   \n",
       "4  Court fines retiree RM22,000 for failure to re...   \n",
       "\n",
       "                                                 url        date  \\\n",
       "0  https://www.freemalaysiatoday.com/category/nat...  2021-10-29   \n",
       "1  https://www.freemalaysiatoday.com/category/nat...  2021-10-29   \n",
       "2  https://www.freemalaysiatoday.com/category/nat...  2021-10-29   \n",
       "3  https://www.freemalaysiatoday.com/category/nat...  2021-10-29   \n",
       "4  https://www.freemalaysiatoday.com/category/nat...  2021-10-29   \n",
       "\n",
       "                                             cleaned  \n",
       "0  remove, gender, discrimination, reforms, Emplo...  \n",
       "1                        new, Covid, cases, reported  \n",
       "2  execute, mentally, disabled, Malaysian, rights...  \n",
       "3  Bar, allowed, friends, court, Najib, son, tax,...  \n",
       "4  Court, fines, retiree, RM22000, failure, repor...  "
      ]
     },
     "execution_count": 4,
     "metadata": {},
     "output_type": "execute_result"
    }
   ],
   "source": [
    "df['cleaned'] = df['title'].apply(clean_text)\n",
    "df.head()"
   ]
  },
  {
   "cell_type": "code",
   "execution_count": 5,
   "id": "971b4307",
   "metadata": {},
   "outputs": [
    {
     "data": {
      "text/html": [
       "<div>\n",
       "<style scoped>\n",
       "    .dataframe tbody tr th:only-of-type {\n",
       "        vertical-align: middle;\n",
       "    }\n",
       "\n",
       "    .dataframe tbody tr th {\n",
       "        vertical-align: top;\n",
       "    }\n",
       "\n",
       "    .dataframe thead th {\n",
       "        text-align: right;\n",
       "    }\n",
       "</style>\n",
       "<table border=\"1\" class=\"dataframe\">\n",
       "  <thead>\n",
       "    <tr style=\"text-align: right;\">\n",
       "      <th></th>\n",
       "      <th>date</th>\n",
       "      <th>cleaned</th>\n",
       "    </tr>\n",
       "  </thead>\n",
       "  <tbody>\n",
       "    <tr>\n",
       "      <th>0</th>\n",
       "      <td>2021-10-29</td>\n",
       "      <td>remove, gender, discrimination, reforms, Emplo...</td>\n",
       "    </tr>\n",
       "    <tr>\n",
       "      <th>1</th>\n",
       "      <td>2021-10-29</td>\n",
       "      <td>new, Covid, cases, reported</td>\n",
       "    </tr>\n",
       "    <tr>\n",
       "      <th>2</th>\n",
       "      <td>2021-10-29</td>\n",
       "      <td>execute, mentally, disabled, Malaysian, rights...</td>\n",
       "    </tr>\n",
       "    <tr>\n",
       "      <th>3</th>\n",
       "      <td>2021-10-29</td>\n",
       "      <td>Bar, allowed, friends, court, Najib, son, tax,...</td>\n",
       "    </tr>\n",
       "    <tr>\n",
       "      <th>4</th>\n",
       "      <td>2021-10-29</td>\n",
       "      <td>Court, fines, retiree, RM22000, failure, repor...</td>\n",
       "    </tr>\n",
       "  </tbody>\n",
       "</table>\n",
       "</div>"
      ],
      "text/plain": [
       "         date                                            cleaned\n",
       "0  2021-10-29  remove, gender, discrimination, reforms, Emplo...\n",
       "1  2021-10-29                        new, Covid, cases, reported\n",
       "2  2021-10-29  execute, mentally, disabled, Malaysian, rights...\n",
       "3  2021-10-29  Bar, allowed, friends, court, Najib, son, tax,...\n",
       "4  2021-10-29  Court, fines, retiree, RM22000, failure, repor..."
      ]
     },
     "execution_count": 5,
     "metadata": {},
     "output_type": "execute_result"
    }
   ],
   "source": [
    "df = df.drop(['title', 'url'], axis = 1)\n",
    "df.head()"
   ]
  },
  {
   "cell_type": "code",
   "execution_count": 6,
   "id": "23cdb480",
   "metadata": {},
   "outputs": [
    {
     "data": {
      "text/html": [
       "<div>\n",
       "<style scoped>\n",
       "    .dataframe tbody tr th:only-of-type {\n",
       "        vertical-align: middle;\n",
       "    }\n",
       "\n",
       "    .dataframe tbody tr th {\n",
       "        vertical-align: top;\n",
       "    }\n",
       "\n",
       "    .dataframe thead th {\n",
       "        text-align: right;\n",
       "    }\n",
       "</style>\n",
       "<table border=\"1\" class=\"dataframe\">\n",
       "  <thead>\n",
       "    <tr style=\"text-align: right;\">\n",
       "      <th></th>\n",
       "      <th>date</th>\n",
       "      <th>cleaned</th>\n",
       "    </tr>\n",
       "  </thead>\n",
       "  <tbody>\n",
       "    <tr>\n",
       "      <th>0</th>\n",
       "      <td>2019-12-31</td>\n",
       "      <td>[PIA,  special,  flight,  brings,  home,  hund...</td>\n",
       "    </tr>\n",
       "    <tr>\n",
       "      <th>1</th>\n",
       "      <td>2020-01-01</td>\n",
       "      <td>[caught,  smoking,  eateries,  first,  day,  e...</td>\n",
       "    </tr>\n",
       "    <tr>\n",
       "      <th>2</th>\n",
       "      <td>2020-01-02</td>\n",
       "      <td>[Petition,  support,  Maszlee,  gets,  signatu...</td>\n",
       "    </tr>\n",
       "    <tr>\n",
       "      <th>3</th>\n",
       "      <td>2020-01-03</td>\n",
       "      <td>[one,  recognises,  Mavcom,  civil,  aviation,...</td>\n",
       "    </tr>\n",
       "    <tr>\n",
       "      <th>4</th>\n",
       "      <td>2020-01-04</td>\n",
       "      <td>[PH,  discuss,  PM,  handover,  says,  Syed,  ...</td>\n",
       "    </tr>\n",
       "  </tbody>\n",
       "</table>\n",
       "</div>"
      ],
      "text/plain": [
       "         date                                            cleaned\n",
       "0  2019-12-31  [PIA,  special,  flight,  brings,  home,  hund...\n",
       "1  2020-01-01  [caught,  smoking,  eateries,  first,  day,  e...\n",
       "2  2020-01-02  [Petition,  support,  Maszlee,  gets,  signatu...\n",
       "3  2020-01-03  [one,  recognises,  Mavcom,  civil,  aviation,...\n",
       "4  2020-01-04  [PH,  discuss,  PM,  handover,  says,  Syed,  ..."
      ]
     },
     "execution_count": 6,
     "metadata": {},
     "output_type": "execute_result"
    }
   ],
   "source": [
    "df = df.groupby(['date'])['cleaned'].apply(lambda x: ','.join(x)).reset_index()\n",
    "df['cleaned'] = df['cleaned'].apply(lambda x: x.split(\",\"))\n",
    "df.head()"
   ]
  },
  {
   "cell_type": "code",
   "execution_count": 7,
   "id": "71e88342",
   "metadata": {},
   "outputs": [
    {
     "data": {
      "text/plain": [
       "(664, 2)"
      ]
     },
     "execution_count": 7,
     "metadata": {},
     "output_type": "execute_result"
    }
   ],
   "source": [
    "df.shape"
   ]
  },
  {
   "cell_type": "code",
   "execution_count": 8,
   "id": "af6129c7",
   "metadata": {},
   "outputs": [
    {
     "data": {
      "text/html": [
       "<div>\n",
       "<style scoped>\n",
       "    .dataframe tbody tr th:only-of-type {\n",
       "        vertical-align: middle;\n",
       "    }\n",
       "\n",
       "    .dataframe tbody tr th {\n",
       "        vertical-align: top;\n",
       "    }\n",
       "\n",
       "    .dataframe thead th {\n",
       "        text-align: right;\n",
       "    }\n",
       "</style>\n",
       "<table border=\"1\" class=\"dataframe\">\n",
       "  <thead>\n",
       "    <tr style=\"text-align: right;\">\n",
       "      <th></th>\n",
       "      <th>date</th>\n",
       "      <th>cleaned</th>\n",
       "    </tr>\n",
       "  </thead>\n",
       "  <tbody>\n",
       "    <tr>\n",
       "      <th>1</th>\n",
       "      <td>2020-01-01</td>\n",
       "      <td>[caught,  smoking,  eateries,  first,  day,  e...</td>\n",
       "    </tr>\n",
       "    <tr>\n",
       "      <th>2</th>\n",
       "      <td>2020-01-02</td>\n",
       "      <td>[Petition,  support,  Maszlee,  gets,  signatu...</td>\n",
       "    </tr>\n",
       "    <tr>\n",
       "      <th>3</th>\n",
       "      <td>2020-01-03</td>\n",
       "      <td>[one,  recognises,  Mavcom,  civil,  aviation,...</td>\n",
       "    </tr>\n",
       "    <tr>\n",
       "      <th>4</th>\n",
       "      <td>2020-01-04</td>\n",
       "      <td>[PH,  discuss,  PM,  handover,  says,  Syed,  ...</td>\n",
       "    </tr>\n",
       "    <tr>\n",
       "      <th>5</th>\n",
       "      <td>2020-01-05</td>\n",
       "      <td>[Umno,  make,  constitutional,  proposal,  say...</td>\n",
       "    </tr>\n",
       "  </tbody>\n",
       "</table>\n",
       "</div>"
      ],
      "text/plain": [
       "         date                                            cleaned\n",
       "1  2020-01-01  [caught,  smoking,  eateries,  first,  day,  e...\n",
       "2  2020-01-02  [Petition,  support,  Maszlee,  gets,  signatu...\n",
       "3  2020-01-03  [one,  recognises,  Mavcom,  civil,  aviation,...\n",
       "4  2020-01-04  [PH,  discuss,  PM,  handover,  says,  Syed,  ...\n",
       "5  2020-01-05  [Umno,  make,  constitutional,  proposal,  say..."
      ]
     },
     "execution_count": 8,
     "metadata": {},
     "output_type": "execute_result"
    }
   ],
   "source": [
    "df.drop(index=df.index[0], \n",
    "        axis=0, \n",
    "        inplace=True)\n",
    "df.head()"
   ]
  },
  {
   "cell_type": "markdown",
   "id": "42c8e6c8",
   "metadata": {},
   "source": [
    "I want to create a word cloud, so I count the number of tokens. Then, I save to json."
   ]
  },
  {
   "cell_type": "code",
   "execution_count": 9,
   "id": "e9a8bee8",
   "metadata": {},
   "outputs": [
    {
     "data": {
      "text/html": [
       "<div>\n",
       "<style scoped>\n",
       "    .dataframe tbody tr th:only-of-type {\n",
       "        vertical-align: middle;\n",
       "    }\n",
       "\n",
       "    .dataframe tbody tr th {\n",
       "        vertical-align: top;\n",
       "    }\n",
       "\n",
       "    .dataframe thead th {\n",
       "        text-align: right;\n",
       "    }\n",
       "</style>\n",
       "<table border=\"1\" class=\"dataframe\">\n",
       "  <thead>\n",
       "    <tr style=\"text-align: right;\">\n",
       "      <th></th>\n",
       "      <th>date</th>\n",
       "      <th>cleaned</th>\n",
       "      <th>counter</th>\n",
       "    </tr>\n",
       "  </thead>\n",
       "  <tbody>\n",
       "    <tr>\n",
       "      <th>1</th>\n",
       "      <td>2020-01-01</td>\n",
       "      <td>[caught,  smoking,  eateries,  first,  day,  e...</td>\n",
       "      <td>{'caught': 1, ' smoking': 1, ' eateries': 1, '...</td>\n",
       "    </tr>\n",
       "    <tr>\n",
       "      <th>2</th>\n",
       "      <td>2020-01-02</td>\n",
       "      <td>[Petition,  support,  Maszlee,  gets,  signatu...</td>\n",
       "      <td>{'Petition': 1, ' support': 1, ' Maszlee': 3, ...</td>\n",
       "    </tr>\n",
       "    <tr>\n",
       "      <th>3</th>\n",
       "      <td>2020-01-03</td>\n",
       "      <td>[one,  recognises,  Mavcom,  civil,  aviation,...</td>\n",
       "      <td>{'one': 1, ' recognises': 1, ' Mavcom': 1, ' c...</td>\n",
       "    </tr>\n",
       "    <tr>\n",
       "      <th>4</th>\n",
       "      <td>2020-01-04</td>\n",
       "      <td>[PH,  discuss,  PM,  handover,  says,  Syed,  ...</td>\n",
       "      <td>{'PH': 1, ' discuss': 1, ' PM': 2, ' handover'...</td>\n",
       "    </tr>\n",
       "    <tr>\n",
       "      <th>5</th>\n",
       "      <td>2020-01-05</td>\n",
       "      <td>[Umno,  make,  constitutional,  proposal,  say...</td>\n",
       "      <td>{'Umno': 1, ' make': 1, ' constitutional': 1, ...</td>\n",
       "    </tr>\n",
       "  </tbody>\n",
       "</table>\n",
       "</div>"
      ],
      "text/plain": [
       "         date                                            cleaned  \\\n",
       "1  2020-01-01  [caught,  smoking,  eateries,  first,  day,  e...   \n",
       "2  2020-01-02  [Petition,  support,  Maszlee,  gets,  signatu...   \n",
       "3  2020-01-03  [one,  recognises,  Mavcom,  civil,  aviation,...   \n",
       "4  2020-01-04  [PH,  discuss,  PM,  handover,  says,  Syed,  ...   \n",
       "5  2020-01-05  [Umno,  make,  constitutional,  proposal,  say...   \n",
       "\n",
       "                                             counter  \n",
       "1  {'caught': 1, ' smoking': 1, ' eateries': 1, '...  \n",
       "2  {'Petition': 1, ' support': 1, ' Maszlee': 3, ...  \n",
       "3  {'one': 1, ' recognises': 1, ' Mavcom': 1, ' c...  \n",
       "4  {'PH': 1, ' discuss': 1, ' PM': 2, ' handover'...  \n",
       "5  {'Umno': 1, ' make': 1, ' constitutional': 1, ...  "
      ]
     },
     "execution_count": 9,
     "metadata": {},
     "output_type": "execute_result"
    }
   ],
   "source": [
    "from collections import Counter\n",
    "\n",
    "df['counter'] = df['cleaned'].apply(lambda x: dict(Counter(x)))\n",
    "df.head()"
   ]
  },
  {
   "cell_type": "code",
   "execution_count": 10,
   "id": "11ce9322",
   "metadata": {},
   "outputs": [
    {
     "data": {
      "text/html": [
       "<div>\n",
       "<style scoped>\n",
       "    .dataframe tbody tr th:only-of-type {\n",
       "        vertical-align: middle;\n",
       "    }\n",
       "\n",
       "    .dataframe tbody tr th {\n",
       "        vertical-align: top;\n",
       "    }\n",
       "\n",
       "    .dataframe thead th {\n",
       "        text-align: right;\n",
       "    }\n",
       "</style>\n",
       "<table border=\"1\" class=\"dataframe\">\n",
       "  <thead>\n",
       "    <tr style=\"text-align: right;\">\n",
       "      <th></th>\n",
       "      <th>date</th>\n",
       "      <th>counter</th>\n",
       "    </tr>\n",
       "  </thead>\n",
       "  <tbody>\n",
       "    <tr>\n",
       "      <th>1</th>\n",
       "      <td>2020-01-01</td>\n",
       "      <td>{'caught': 1, ' smoking': 1, ' eateries': 1, '...</td>\n",
       "    </tr>\n",
       "    <tr>\n",
       "      <th>2</th>\n",
       "      <td>2020-01-02</td>\n",
       "      <td>{'Petition': 1, ' support': 1, ' Maszlee': 3, ...</td>\n",
       "    </tr>\n",
       "    <tr>\n",
       "      <th>3</th>\n",
       "      <td>2020-01-03</td>\n",
       "      <td>{'one': 1, ' recognises': 1, ' Mavcom': 1, ' c...</td>\n",
       "    </tr>\n",
       "    <tr>\n",
       "      <th>4</th>\n",
       "      <td>2020-01-04</td>\n",
       "      <td>{'PH': 1, ' discuss': 1, ' PM': 2, ' handover'...</td>\n",
       "    </tr>\n",
       "    <tr>\n",
       "      <th>5</th>\n",
       "      <td>2020-01-05</td>\n",
       "      <td>{'Umno': 1, ' make': 1, ' constitutional': 1, ...</td>\n",
       "    </tr>\n",
       "  </tbody>\n",
       "</table>\n",
       "</div>"
      ],
      "text/plain": [
       "         date                                            counter\n",
       "1  2020-01-01  {'caught': 1, ' smoking': 1, ' eateries': 1, '...\n",
       "2  2020-01-02  {'Petition': 1, ' support': 1, ' Maszlee': 3, ...\n",
       "3  2020-01-03  {'one': 1, ' recognises': 1, ' Mavcom': 1, ' c...\n",
       "4  2020-01-04  {'PH': 1, ' discuss': 1, ' PM': 2, ' handover'...\n",
       "5  2020-01-05  {'Umno': 1, ' make': 1, ' constitutional': 1, ..."
      ]
     },
     "execution_count": 10,
     "metadata": {},
     "output_type": "execute_result"
    }
   ],
   "source": [
    "df = df.drop(['cleaned'], axis = 1)\n",
    "df.head()"
   ]
  },
  {
   "cell_type": "code",
   "execution_count": 11,
   "id": "e0a25a7e",
   "metadata": {},
   "outputs": [],
   "source": [
    "df.to_json(\"preprocessed_fmt.json\", orient='records')"
   ]
  },
  {
   "cell_type": "code",
   "execution_count": null,
   "id": "f241468f",
   "metadata": {},
   "outputs": [],
   "source": []
  }
 ],
 "metadata": {
  "kernelspec": {
   "display_name": "Python 3 (ipykernel)",
   "language": "python",
   "name": "python3"
  },
  "language_info": {
   "codemirror_mode": {
    "name": "ipython",
    "version": 3
   },
   "file_extension": ".py",
   "mimetype": "text/x-python",
   "name": "python",
   "nbconvert_exporter": "python",
   "pygments_lexer": "ipython3",
   "version": "3.8.10"
  }
 },
 "nbformat": 4,
 "nbformat_minor": 5
}

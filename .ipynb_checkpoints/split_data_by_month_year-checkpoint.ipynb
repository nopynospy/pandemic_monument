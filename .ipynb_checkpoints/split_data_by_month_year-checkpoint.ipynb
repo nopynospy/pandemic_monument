{
 "cells": [
  {
   "cell_type": "markdown",
   "id": "e39de6a2",
   "metadata": {},
   "source": [
    "# Split data files by month and year"
   ]
  },
  {
   "cell_type": "code",
   "execution_count": 11,
   "id": "854425d7",
   "metadata": {},
   "outputs": [],
   "source": [
    "import pandas as pd\n",
    "import json\n",
    "\n",
    "fmt = json.load(open(\"preprocessed_fmt.json\", encoding=\"utf8\"))\n",
    "myr_usd = pd.read_csv(\"myr_usd.csv\")\n",
    "moh = pd.read_csv(\"daily.csv\")"
   ]
  },
  {
   "cell_type": "code",
   "execution_count": 12,
   "id": "51b0a9ca",
   "metadata": {},
   "outputs": [],
   "source": [
    "MONTH_YEAR = ['2019-12',\n",
    "              '2020-01', '2020-02', '2020-03', '2020-04', '2020-05', '2020-06',\n",
    "              '2020-07', '2020-08', '2020-09', '2020-10', '2020-11', '2020-12',\n",
    "              '2021-01', '2021-02', '2021-03', '2021-04', '2021-05', '2021-06',\n",
    "              '2021-07', '2021-08', '2021-09', '2021-10', '2021-11', '2021-12',\n",
    "              '2022-01', '2022-02']"
   ]
  },
  {
   "cell_type": "code",
   "execution_count": 13,
   "id": "279c7f70",
   "metadata": {},
   "outputs": [],
   "source": [
    "for my in MONTH_YEAR:\n",
    "    df = myr_usd[myr_usd['date'].str.contains(my)]\n",
    "    file_name = \"split_currency/currency_\" + my + \".csv\"\n",
    "    df.to_csv(file_name, encoding='utf-8', index=False)"
   ]
  },
  {
   "cell_type": "code",
   "execution_count": 15,
   "id": "ddad7e5a",
   "metadata": {},
   "outputs": [],
   "source": [
    "# Drop 2019-12, since it is only used in currency data\n",
    "MONTH_YEAR.pop(0)\n",
    "\n",
    "for my in MONTH_YEAR:\n",
    "    df = moh[moh['date'].str.contains(my)]\n",
    "    file_name = \"split_cases/cases_\" + my + \".csv\"\n",
    "    df.to_csv(file_name, encoding='utf-8', index=False)"
   ]
  },
  {
   "cell_type": "code",
   "execution_count": 18,
   "id": "84ebcd2f",
   "metadata": {},
   "outputs": [],
   "source": [
    "for my in MONTH_YEAR:\n",
    "    filtered_dict = list(filter(lambda x: my in x['date'], fmt))\n",
    "    file_name = \"split_news/news_\" + my + \".json\"\n",
    "    with open(file_name, \"w\") as json_file:\n",
    "        json.dump(filtered_dict, json_file)"
   ]
  },
  {
   "cell_type": "code",
   "execution_count": null,
   "id": "3dd5ce22",
   "metadata": {},
   "outputs": [],
   "source": []
  }
 ],
 "metadata": {
  "kernelspec": {
   "display_name": "Python 3 (ipykernel)",
   "language": "python",
   "name": "python3"
  },
  "language_info": {
   "codemirror_mode": {
    "name": "ipython",
    "version": 3
   },
   "file_extension": ".py",
   "mimetype": "text/x-python",
   "name": "python",
   "nbconvert_exporter": "python",
   "pygments_lexer": "ipython3",
   "version": "3.8.10"
  }
 },
 "nbformat": 4,
 "nbformat_minor": 5
}

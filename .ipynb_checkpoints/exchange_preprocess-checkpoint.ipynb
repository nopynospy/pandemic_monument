{
 "cells": [
  {
   "cell_type": "code",
   "execution_count": 1,
   "id": "bd6e3ef5",
   "metadata": {},
   "outputs": [
    {
     "data": {
      "text/html": [
       "<div>\n",
       "<style scoped>\n",
       "    .dataframe tbody tr th:only-of-type {\n",
       "        vertical-align: middle;\n",
       "    }\n",
       "\n",
       "    .dataframe tbody tr th {\n",
       "        vertical-align: top;\n",
       "    }\n",
       "\n",
       "    .dataframe thead th {\n",
       "        text-align: right;\n",
       "    }\n",
       "</style>\n",
       "<table border=\"1\" class=\"dataframe\">\n",
       "  <thead>\n",
       "    <tr style=\"text-align: right;\">\n",
       "      <th></th>\n",
       "      <th>Date</th>\n",
       "      <th>Price</th>\n",
       "      <th>Open</th>\n",
       "      <th>High</th>\n",
       "      <th>Low</th>\n",
       "      <th>Change %</th>\n",
       "    </tr>\n",
       "  </thead>\n",
       "  <tbody>\n",
       "    <tr>\n",
       "      <th>0</th>\n",
       "      <td>Oct 08, 2021</td>\n",
       "      <td>0.2392</td>\n",
       "      <td>0.2393</td>\n",
       "      <td>0.2393</td>\n",
       "      <td>0.2391</td>\n",
       "      <td>0.09%</td>\n",
       "    </tr>\n",
       "    <tr>\n",
       "      <th>1</th>\n",
       "      <td>Oct 07, 2021</td>\n",
       "      <td>0.2389</td>\n",
       "      <td>0.2391</td>\n",
       "      <td>0.2394</td>\n",
       "      <td>0.2390</td>\n",
       "      <td>0.03%</td>\n",
       "    </tr>\n",
       "    <tr>\n",
       "      <th>2</th>\n",
       "      <td>Oct 06, 2021</td>\n",
       "      <td>0.2390</td>\n",
       "      <td>0.2393</td>\n",
       "      <td>0.2394</td>\n",
       "      <td>0.2388</td>\n",
       "      <td>-0.14%</td>\n",
       "    </tr>\n",
       "    <tr>\n",
       "      <th>3</th>\n",
       "      <td>Oct 05, 2021</td>\n",
       "      <td>0.2393</td>\n",
       "      <td>0.2396</td>\n",
       "      <td>0.2397</td>\n",
       "      <td>0.2391</td>\n",
       "      <td>-0.06%</td>\n",
       "    </tr>\n",
       "    <tr>\n",
       "      <th>4</th>\n",
       "      <td>Oct 04, 2021</td>\n",
       "      <td>0.2395</td>\n",
       "      <td>0.2395</td>\n",
       "      <td>0.2398</td>\n",
       "      <td>0.2393</td>\n",
       "      <td>0.12%</td>\n",
       "    </tr>\n",
       "  </tbody>\n",
       "</table>\n",
       "</div>"
      ],
      "text/plain": [
       "           Date   Price    Open    High     Low Change %\n",
       "0  Oct 08, 2021  0.2392  0.2393  0.2393  0.2391    0.09%\n",
       "1  Oct 07, 2021  0.2389  0.2391  0.2394  0.2390    0.03%\n",
       "2  Oct 06, 2021  0.2390  0.2393  0.2394  0.2388   -0.14%\n",
       "3  Oct 05, 2021  0.2393  0.2396  0.2397  0.2391   -0.06%\n",
       "4  Oct 04, 2021  0.2395  0.2395  0.2398  0.2393    0.12%"
      ]
     },
     "execution_count": 1,
     "metadata": {},
     "output_type": "execute_result"
    }
   ],
   "source": [
    "import pandas as pd\n",
    "\n",
    "df = pd.read_csv(\"MYR_USD Historical Data.csv\")\n",
    "df.head()"
   ]
  },
  {
   "cell_type": "code",
   "execution_count": 2,
   "id": "7c82f7b5",
   "metadata": {},
   "outputs": [
    {
     "data": {
      "text/plain": [
       "Date         object\n",
       "Price       float64\n",
       "Open        float64\n",
       "High        float64\n",
       "Low         float64\n",
       "Change %     object\n",
       "dtype: object"
      ]
     },
     "execution_count": 2,
     "metadata": {},
     "output_type": "execute_result"
    }
   ],
   "source": [
    "df.dtypes"
   ]
  },
  {
   "cell_type": "code",
   "execution_count": 3,
   "id": "d80a18ff",
   "metadata": {},
   "outputs": [
    {
     "data": {
      "text/html": [
       "<div>\n",
       "<style scoped>\n",
       "    .dataframe tbody tr th:only-of-type {\n",
       "        vertical-align: middle;\n",
       "    }\n",
       "\n",
       "    .dataframe tbody tr th {\n",
       "        vertical-align: top;\n",
       "    }\n",
       "\n",
       "    .dataframe thead th {\n",
       "        text-align: right;\n",
       "    }\n",
       "</style>\n",
       "<table border=\"1\" class=\"dataframe\">\n",
       "  <thead>\n",
       "    <tr style=\"text-align: right;\">\n",
       "      <th></th>\n",
       "      <th>date</th>\n",
       "      <th>price</th>\n",
       "      <th>open</th>\n",
       "      <th>high</th>\n",
       "      <th>low</th>\n",
       "      <th>change %</th>\n",
       "    </tr>\n",
       "  </thead>\n",
       "  <tbody>\n",
       "    <tr>\n",
       "      <th>0</th>\n",
       "      <td>2021-10-08</td>\n",
       "      <td>0.2392</td>\n",
       "      <td>0.2393</td>\n",
       "      <td>0.2393</td>\n",
       "      <td>0.2391</td>\n",
       "      <td>0.09%</td>\n",
       "    </tr>\n",
       "    <tr>\n",
       "      <th>1</th>\n",
       "      <td>2021-10-07</td>\n",
       "      <td>0.2389</td>\n",
       "      <td>0.2391</td>\n",
       "      <td>0.2394</td>\n",
       "      <td>0.2390</td>\n",
       "      <td>0.03%</td>\n",
       "    </tr>\n",
       "    <tr>\n",
       "      <th>2</th>\n",
       "      <td>2021-10-06</td>\n",
       "      <td>0.2390</td>\n",
       "      <td>0.2393</td>\n",
       "      <td>0.2394</td>\n",
       "      <td>0.2388</td>\n",
       "      <td>-0.14%</td>\n",
       "    </tr>\n",
       "    <tr>\n",
       "      <th>3</th>\n",
       "      <td>2021-10-05</td>\n",
       "      <td>0.2393</td>\n",
       "      <td>0.2396</td>\n",
       "      <td>0.2397</td>\n",
       "      <td>0.2391</td>\n",
       "      <td>-0.06%</td>\n",
       "    </tr>\n",
       "    <tr>\n",
       "      <th>4</th>\n",
       "      <td>2021-10-04</td>\n",
       "      <td>0.2395</td>\n",
       "      <td>0.2395</td>\n",
       "      <td>0.2398</td>\n",
       "      <td>0.2393</td>\n",
       "      <td>0.12%</td>\n",
       "    </tr>\n",
       "  </tbody>\n",
       "</table>\n",
       "</div>"
      ],
      "text/plain": [
       "        date   price    open    high     low change %\n",
       "0 2021-10-08  0.2392  0.2393  0.2393  0.2391    0.09%\n",
       "1 2021-10-07  0.2389  0.2391  0.2394  0.2390    0.03%\n",
       "2 2021-10-06  0.2390  0.2393  0.2394  0.2388   -0.14%\n",
       "3 2021-10-05  0.2393  0.2396  0.2397  0.2391   -0.06%\n",
       "4 2021-10-04  0.2395  0.2395  0.2398  0.2393    0.12%"
      ]
     },
     "execution_count": 3,
     "metadata": {},
     "output_type": "execute_result"
    }
   ],
   "source": [
    "df['Date'] = pd.to_datetime(df['Date'])\n",
    "df.columns= df.columns.str.lower()\n",
    "\n",
    "df.head()"
   ]
  },
  {
   "cell_type": "code",
   "execution_count": 4,
   "id": "c9d5e56d",
   "metadata": {},
   "outputs": [],
   "source": [
    "df.to_csv(\"myr_usd.csv\", index=False)"
   ]
  }
 ],
 "metadata": {
  "kernelspec": {
   "display_name": "Python 3 (ipykernel)",
   "language": "python",
   "name": "python3"
  },
  "language_info": {
   "codemirror_mode": {
    "name": "ipython",
    "version": 3
   },
   "file_extension": ".py",
   "mimetype": "text/x-python",
   "name": "python",
   "nbconvert_exporter": "python",
   "pygments_lexer": "ipython3",
   "version": "3.8.10"
  }
 },
 "nbformat": 4,
 "nbformat_minor": 5
}

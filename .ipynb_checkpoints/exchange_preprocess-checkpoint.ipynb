{
 "cells": [
  {
   "cell_type": "code",
   "execution_count": 1,
   "id": "bd6e3ef5",
   "metadata": {},
   "outputs": [
    {
     "data": {
      "text/html": [
       "<div>\n",
       "<style scoped>\n",
       "    .dataframe tbody tr th:only-of-type {\n",
       "        vertical-align: middle;\n",
       "    }\n",
       "\n",
       "    .dataframe tbody tr th {\n",
       "        vertical-align: top;\n",
       "    }\n",
       "\n",
       "    .dataframe thead th {\n",
       "        text-align: right;\n",
       "    }\n",
       "</style>\n",
       "<table border=\"1\" class=\"dataframe\">\n",
       "  <thead>\n",
       "    <tr style=\"text-align: right;\">\n",
       "      <th></th>\n",
       "      <th>Date</th>\n",
       "      <th>Price</th>\n",
       "      <th>Open</th>\n",
       "      <th>High</th>\n",
       "      <th>Low</th>\n",
       "      <th>Change %</th>\n",
       "    </tr>\n",
       "  </thead>\n",
       "  <tbody>\n",
       "    <tr>\n",
       "      <th>0</th>\n",
       "      <td>Dec 28, 2021</td>\n",
       "      <td>0.2390</td>\n",
       "      <td>0.2391</td>\n",
       "      <td>0.2391</td>\n",
       "      <td>0.2390</td>\n",
       "      <td>0.02%</td>\n",
       "    </tr>\n",
       "    <tr>\n",
       "      <th>1</th>\n",
       "      <td>Dec 27, 2021</td>\n",
       "      <td>0.2389</td>\n",
       "      <td>0.2382</td>\n",
       "      <td>0.2391</td>\n",
       "      <td>0.2382</td>\n",
       "      <td>0.31%</td>\n",
       "    </tr>\n",
       "    <tr>\n",
       "      <th>2</th>\n",
       "      <td>Dec 24, 2021</td>\n",
       "      <td>0.2382</td>\n",
       "      <td>0.2381</td>\n",
       "      <td>0.2385</td>\n",
       "      <td>0.2380</td>\n",
       "      <td>0.10%</td>\n",
       "    </tr>\n",
       "    <tr>\n",
       "      <th>3</th>\n",
       "      <td>Dec 23, 2021</td>\n",
       "      <td>0.2380</td>\n",
       "      <td>0.2375</td>\n",
       "      <td>0.2381</td>\n",
       "      <td>0.2375</td>\n",
       "      <td>0.31%</td>\n",
       "    </tr>\n",
       "    <tr>\n",
       "      <th>4</th>\n",
       "      <td>Dec 22, 2021</td>\n",
       "      <td>0.2373</td>\n",
       "      <td>0.2375</td>\n",
       "      <td>0.2378</td>\n",
       "      <td>0.2372</td>\n",
       "      <td>-0.12%</td>\n",
       "    </tr>\n",
       "  </tbody>\n",
       "</table>\n",
       "</div>"
      ],
      "text/plain": [
       "           Date   Price    Open    High     Low Change %\n",
       "0  Dec 28, 2021  0.2390  0.2391  0.2391  0.2390    0.02%\n",
       "1  Dec 27, 2021  0.2389  0.2382  0.2391  0.2382    0.31%\n",
       "2  Dec 24, 2021  0.2382  0.2381  0.2385  0.2380    0.10%\n",
       "3  Dec 23, 2021  0.2380  0.2375  0.2381  0.2375    0.31%\n",
       "4  Dec 22, 2021  0.2373  0.2375  0.2378  0.2372   -0.12%"
      ]
     },
     "execution_count": 1,
     "metadata": {},
     "output_type": "execute_result"
    }
   ],
   "source": [
    "import pandas as pd\n",
    "\n",
    "df = pd.read_csv(\"MYR_USD Historical Data.csv\")\n",
    "df.head()"
   ]
  },
  {
   "cell_type": "code",
   "execution_count": 2,
   "id": "7c82f7b5",
   "metadata": {},
   "outputs": [
    {
     "data": {
      "text/plain": [
       "Date         object\n",
       "Price       float64\n",
       "Open        float64\n",
       "High        float64\n",
       "Low         float64\n",
       "Change %     object\n",
       "dtype: object"
      ]
     },
     "execution_count": 2,
     "metadata": {},
     "output_type": "execute_result"
    }
   ],
   "source": [
    "df.dtypes"
   ]
  },
  {
   "cell_type": "code",
   "execution_count": 3,
   "id": "d80a18ff",
   "metadata": {},
   "outputs": [
    {
     "data": {
      "text/html": [
       "<div>\n",
       "<style scoped>\n",
       "    .dataframe tbody tr th:only-of-type {\n",
       "        vertical-align: middle;\n",
       "    }\n",
       "\n",
       "    .dataframe tbody tr th {\n",
       "        vertical-align: top;\n",
       "    }\n",
       "\n",
       "    .dataframe thead th {\n",
       "        text-align: right;\n",
       "    }\n",
       "</style>\n",
       "<table border=\"1\" class=\"dataframe\">\n",
       "  <thead>\n",
       "    <tr style=\"text-align: right;\">\n",
       "      <th></th>\n",
       "      <th>date</th>\n",
       "      <th>price</th>\n",
       "      <th>open</th>\n",
       "      <th>high</th>\n",
       "      <th>low</th>\n",
       "      <th>change %</th>\n",
       "    </tr>\n",
       "  </thead>\n",
       "  <tbody>\n",
       "    <tr>\n",
       "      <th>0</th>\n",
       "      <td>2021-12-28</td>\n",
       "      <td>0.2390</td>\n",
       "      <td>0.2391</td>\n",
       "      <td>0.2391</td>\n",
       "      <td>0.2390</td>\n",
       "      <td>0.02%</td>\n",
       "    </tr>\n",
       "    <tr>\n",
       "      <th>1</th>\n",
       "      <td>2021-12-27</td>\n",
       "      <td>0.2389</td>\n",
       "      <td>0.2382</td>\n",
       "      <td>0.2391</td>\n",
       "      <td>0.2382</td>\n",
       "      <td>0.31%</td>\n",
       "    </tr>\n",
       "    <tr>\n",
       "      <th>2</th>\n",
       "      <td>2021-12-24</td>\n",
       "      <td>0.2382</td>\n",
       "      <td>0.2381</td>\n",
       "      <td>0.2385</td>\n",
       "      <td>0.2380</td>\n",
       "      <td>0.10%</td>\n",
       "    </tr>\n",
       "    <tr>\n",
       "      <th>3</th>\n",
       "      <td>2021-12-23</td>\n",
       "      <td>0.2380</td>\n",
       "      <td>0.2375</td>\n",
       "      <td>0.2381</td>\n",
       "      <td>0.2375</td>\n",
       "      <td>0.31%</td>\n",
       "    </tr>\n",
       "    <tr>\n",
       "      <th>4</th>\n",
       "      <td>2021-12-22</td>\n",
       "      <td>0.2373</td>\n",
       "      <td>0.2375</td>\n",
       "      <td>0.2378</td>\n",
       "      <td>0.2372</td>\n",
       "      <td>-0.12%</td>\n",
       "    </tr>\n",
       "  </tbody>\n",
       "</table>\n",
       "</div>"
      ],
      "text/plain": [
       "        date   price    open    high     low change %\n",
       "0 2021-12-28  0.2390  0.2391  0.2391  0.2390    0.02%\n",
       "1 2021-12-27  0.2389  0.2382  0.2391  0.2382    0.31%\n",
       "2 2021-12-24  0.2382  0.2381  0.2385  0.2380    0.10%\n",
       "3 2021-12-23  0.2380  0.2375  0.2381  0.2375    0.31%\n",
       "4 2021-12-22  0.2373  0.2375  0.2378  0.2372   -0.12%"
      ]
     },
     "execution_count": 3,
     "metadata": {},
     "output_type": "execute_result"
    }
   ],
   "source": [
    "df['Date'] = pd.to_datetime(df['Date'])\n",
    "df.columns= df.columns.str.lower()\n",
    "\n",
    "df.head()"
   ]
  },
  {
   "cell_type": "code",
   "execution_count": 4,
   "id": "c9d5e56d",
   "metadata": {},
   "outputs": [],
   "source": [
    "df.to_csv(\"myr_usd.csv\", index=False)"
   ]
  }
 ],
 "metadata": {
  "kernelspec": {
   "display_name": "Python 3 (ipykernel)",
   "language": "python",
   "name": "python3"
  },
  "language_info": {
   "codemirror_mode": {
    "name": "ipython",
    "version": 3
   },
   "file_extension": ".py",
   "mimetype": "text/x-python",
   "name": "python",
   "nbconvert_exporter": "python",
   "pygments_lexer": "ipython3",
   "version": "3.8.10"
  }
 },
 "nbformat": 4,
 "nbformat_minor": 5
}

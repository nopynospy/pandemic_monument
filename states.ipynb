{
 "cells": [
  {
   "cell_type": "code",
   "execution_count": 1,
   "id": "66f7a642",
   "metadata": {},
   "outputs": [
    {
     "name": "stdout",
     "output_type": "stream",
     "text": [
      "[{'name': 'Johor', 'url': '/wiki/Johor'}, {'name': 'Kedah', 'url': '/wiki/Kedah'}, {'name': 'Kelantan', 'url': '/wiki/Kelantan'}, {'name': 'Malacca', 'url': '/wiki/Malacca'}, {'name': 'Negeri Sembilan', 'url': '/wiki/Negeri_Sembilan'}, {'name': 'Pahang', 'url': '/wiki/Pahang'}, {'name': 'Perak', 'url': '/wiki/Perak'}, {'name': 'Perlis', 'url': '/wiki/Perlis'}, {'name': 'Penang', 'url': '/wiki/Penang'}, {'name': 'Selangor', 'url': '/wiki/Selangor'}, {'name': 'Terengganu', 'url': '/wiki/Terengganu'}, {'name': 'Sabah', 'url': '/wiki/Sabah'}, {'name': 'Sarawak', 'url': '/wiki/Sarawak'}, {'name': 'Kuala Lumpur', 'url': '/wiki/Kuala_Lumpur'}, {'name': 'Labuan', 'url': '/wiki/Labuan'}, {'name': 'Putrajaya', 'url': '/wiki/Putrajaya'}]\n"
     ]
    }
   ],
   "source": [
    "import json\n",
    "\n",
    "with open('wikipedia_states_urls.json') as f:\n",
    "    urls = json.load(f)[0]['items']\n",
    "\n",
    "print(urls)"
   ]
  },
  {
   "cell_type": "code",
   "execution_count": 2,
   "id": "50414bda",
   "metadata": {},
   "outputs": [
    {
     "name": "stdout",
     "output_type": "stream",
     "text": [
      "{'name': 'Johor', 'url': '/wiki/Johor', 'geo': '1.99083; 103.48278'}\n",
      "{'name': 'Kedah', 'url': '/wiki/Kedah', 'geo': '6.12833; 100.36278'}\n",
      "{'name': 'Kelantan', 'url': '/wiki/Kelantan', 'geo': '5.250; 102.000'}\n",
      "{'name': 'Malacca', 'url': '/wiki/Malacca', 'geo': '2.200; 102.250'}\n",
      "{'name': 'Negeri Sembilan', 'url': '/wiki/Negeri_Sembilan', 'geo': '2.750; 102.250'}\n",
      "{'name': 'Pahang', 'url': '/wiki/Pahang', 'geo': '3.750; 102.500'}\n",
      "{'name': 'Perak', 'url': '/wiki/Perak', 'geo': '4.750; 101.000'}\n",
      "{'name': 'Perlis', 'url': '/wiki/Perlis', 'geo': '6.500; 100.250'}\n",
      "{'name': 'Penang', 'url': '/wiki/Penang', 'geo': '5.40250; 100.36500'}\n",
      "{'name': 'Selangor', 'url': '/wiki/Selangor', 'geo': '3.333; 101.500'}\n",
      "{'name': 'Terengganu', 'url': '/wiki/Terengganu', 'geo': '4.750; 103.000'}\n",
      "{'name': 'Sabah', 'url': '/wiki/Sabah', 'geo': '5.250; 117.000'}\n",
      "{'name': 'Sarawak', 'url': '/wiki/Sarawak', 'geo': '2.800; 113.883'}\n",
      "{'name': 'Kuala Lumpur', 'url': '/wiki/Kuala_Lumpur', 'geo': '3.14778; 101.69528'}\n",
      "{'name': 'Labuan', 'url': '/wiki/Labuan', 'geo': '5.30000; 115.22000'}\n",
      "{'name': 'Putrajaya', 'url': '/wiki/Putrajaya', 'geo': '2.93000; 101.69000'}\n"
     ]
    }
   ],
   "source": [
    "import requests\n",
    "from bs4 import BeautifulSoup\n",
    "import time\n",
    "\n",
    "for url in urls:\n",
    "    time.sleep(5)\n",
    "    page = requests.get('https://en.wikipedia.org/' + url['url'])\n",
    "    soup = BeautifulSoup(page.content, 'html.parser')\n",
    "    url['geo'] = soup.find('span', {'class' :'geo'}).text\n",
    "    print(url)"
   ]
  },
  {
   "cell_type": "code",
   "execution_count": 4,
   "id": "ac482b2f",
   "metadata": {},
   "outputs": [
    {
     "data": {
      "text/html": [
       "<div>\n",
       "<style scoped>\n",
       "    .dataframe tbody tr th:only-of-type {\n",
       "        vertical-align: middle;\n",
       "    }\n",
       "\n",
       "    .dataframe tbody tr th {\n",
       "        vertical-align: top;\n",
       "    }\n",
       "\n",
       "    .dataframe thead th {\n",
       "        text-align: right;\n",
       "    }\n",
       "</style>\n",
       "<table border=\"1\" class=\"dataframe\">\n",
       "  <thead>\n",
       "    <tr style=\"text-align: right;\">\n",
       "      <th></th>\n",
       "      <th>name</th>\n",
       "      <th>url</th>\n",
       "      <th>geo</th>\n",
       "    </tr>\n",
       "  </thead>\n",
       "  <tbody>\n",
       "    <tr>\n",
       "      <th>0</th>\n",
       "      <td>Johor</td>\n",
       "      <td>/wiki/Johor</td>\n",
       "      <td>1.99083; 103.48278</td>\n",
       "    </tr>\n",
       "    <tr>\n",
       "      <th>1</th>\n",
       "      <td>Kedah</td>\n",
       "      <td>/wiki/Kedah</td>\n",
       "      <td>6.12833; 100.36278</td>\n",
       "    </tr>\n",
       "    <tr>\n",
       "      <th>2</th>\n",
       "      <td>Kelantan</td>\n",
       "      <td>/wiki/Kelantan</td>\n",
       "      <td>5.250; 102.000</td>\n",
       "    </tr>\n",
       "    <tr>\n",
       "      <th>3</th>\n",
       "      <td>Malacca</td>\n",
       "      <td>/wiki/Malacca</td>\n",
       "      <td>2.200; 102.250</td>\n",
       "    </tr>\n",
       "    <tr>\n",
       "      <th>4</th>\n",
       "      <td>Negeri Sembilan</td>\n",
       "      <td>/wiki/Negeri_Sembilan</td>\n",
       "      <td>2.750; 102.250</td>\n",
       "    </tr>\n",
       "  </tbody>\n",
       "</table>\n",
       "</div>"
      ],
      "text/plain": [
       "              name                    url                 geo\n",
       "0            Johor            /wiki/Johor  1.99083; 103.48278\n",
       "1            Kedah            /wiki/Kedah  6.12833; 100.36278\n",
       "2         Kelantan         /wiki/Kelantan      5.250; 102.000\n",
       "3          Malacca          /wiki/Malacca      2.200; 102.250\n",
       "4  Negeri Sembilan  /wiki/Negeri_Sembilan      2.750; 102.250"
      ]
     },
     "execution_count": 4,
     "metadata": {},
     "output_type": "execute_result"
    }
   ],
   "source": [
    "import pandas as pd\n",
    "\n",
    "df = pd.DataFrame(urls)\n",
    "df.head()"
   ]
  },
  {
   "cell_type": "code",
   "execution_count": 5,
   "id": "04752aa9",
   "metadata": {},
   "outputs": [
    {
     "data": {
      "text/html": [
       "<div>\n",
       "<style scoped>\n",
       "    .dataframe tbody tr th:only-of-type {\n",
       "        vertical-align: middle;\n",
       "    }\n",
       "\n",
       "    .dataframe tbody tr th {\n",
       "        vertical-align: top;\n",
       "    }\n",
       "\n",
       "    .dataframe thead th {\n",
       "        text-align: right;\n",
       "    }\n",
       "</style>\n",
       "<table border=\"1\" class=\"dataframe\">\n",
       "  <thead>\n",
       "    <tr style=\"text-align: right;\">\n",
       "      <th></th>\n",
       "      <th>name</th>\n",
       "      <th>url</th>\n",
       "      <th>longitude</th>\n",
       "      <th>latitude</th>\n",
       "    </tr>\n",
       "  </thead>\n",
       "  <tbody>\n",
       "    <tr>\n",
       "      <th>0</th>\n",
       "      <td>Johor</td>\n",
       "      <td>/wiki/Johor</td>\n",
       "      <td>1.99083</td>\n",
       "      <td>103.48278</td>\n",
       "    </tr>\n",
       "    <tr>\n",
       "      <th>1</th>\n",
       "      <td>Kedah</td>\n",
       "      <td>/wiki/Kedah</td>\n",
       "      <td>6.12833</td>\n",
       "      <td>100.36278</td>\n",
       "    </tr>\n",
       "    <tr>\n",
       "      <th>2</th>\n",
       "      <td>Kelantan</td>\n",
       "      <td>/wiki/Kelantan</td>\n",
       "      <td>5.250</td>\n",
       "      <td>102.000</td>\n",
       "    </tr>\n",
       "    <tr>\n",
       "      <th>3</th>\n",
       "      <td>Malacca</td>\n",
       "      <td>/wiki/Malacca</td>\n",
       "      <td>2.200</td>\n",
       "      <td>102.250</td>\n",
       "    </tr>\n",
       "    <tr>\n",
       "      <th>4</th>\n",
       "      <td>Negeri Sembilan</td>\n",
       "      <td>/wiki/Negeri_Sembilan</td>\n",
       "      <td>2.750</td>\n",
       "      <td>102.250</td>\n",
       "    </tr>\n",
       "  </tbody>\n",
       "</table>\n",
       "</div>"
      ],
      "text/plain": [
       "              name                    url longitude   latitude\n",
       "0            Johor            /wiki/Johor   1.99083  103.48278\n",
       "1            Kedah            /wiki/Kedah   6.12833  100.36278\n",
       "2         Kelantan         /wiki/Kelantan     5.250    102.000\n",
       "3          Malacca          /wiki/Malacca     2.200    102.250\n",
       "4  Negeri Sembilan  /wiki/Negeri_Sembilan     2.750    102.250"
      ]
     },
     "execution_count": 5,
     "metadata": {},
     "output_type": "execute_result"
    }
   ],
   "source": [
    "df[['longitude', 'latitude']] = df['geo'].str.split('; ', 1, expand=True)\n",
    "df = df.drop(['geo'], axis=1)\n",
    "df.head()"
   ]
  },
  {
   "cell_type": "code",
   "execution_count": 6,
   "id": "e5140001",
   "metadata": {},
   "outputs": [],
   "source": [
    "df.to_csv('states_coords.csv')"
   ]
  },
  {
   "cell_type": "code",
   "execution_count": null,
   "id": "2a36e311",
   "metadata": {},
   "outputs": [],
   "source": []
  }
 ],
 "metadata": {
  "kernelspec": {
   "display_name": "Python 3 (ipykernel)",
   "language": "python",
   "name": "python3"
  },
  "language_info": {
   "codemirror_mode": {
    "name": "ipython",
    "version": 3
   },
   "file_extension": ".py",
   "mimetype": "text/x-python",
   "name": "python",
   "nbconvert_exporter": "python",
   "pygments_lexer": "ipython3",
   "version": "3.8.10"
  }
 },
 "nbformat": 4,
 "nbformat_minor": 5
}

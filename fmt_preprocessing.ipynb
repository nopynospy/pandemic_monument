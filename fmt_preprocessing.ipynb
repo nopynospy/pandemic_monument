{
 "cells": [
  {
   "cell_type": "markdown",
   "id": "3779dfba",
   "metadata": {},
   "source": [
    "Having imputed the csv in df_impute.ipynb, I now perform text preprocessing."
   ]
  },
  {
   "cell_type": "code",
   "execution_count": 1,
   "id": "37419ff1",
   "metadata": {},
   "outputs": [],
   "source": [
    "import pandas as pd"
   ]
  },
  {
   "cell_type": "code",
   "execution_count": 2,
   "id": "6f8bc97d",
   "metadata": {},
   "outputs": [
    {
     "data": {
      "text/html": [
       "<div>\n",
       "<style scoped>\n",
       "    .dataframe tbody tr th:only-of-type {\n",
       "        vertical-align: middle;\n",
       "    }\n",
       "\n",
       "    .dataframe tbody tr th {\n",
       "        vertical-align: top;\n",
       "    }\n",
       "\n",
       "    .dataframe thead th {\n",
       "        text-align: right;\n",
       "    }\n",
       "</style>\n",
       "<table border=\"1\" class=\"dataframe\">\n",
       "  <thead>\n",
       "    <tr style=\"text-align: right;\">\n",
       "      <th></th>\n",
       "      <th>title</th>\n",
       "      <th>url</th>\n",
       "      <th>date</th>\n",
       "    </tr>\n",
       "  </thead>\n",
       "  <tbody>\n",
       "    <tr>\n",
       "      <th>0</th>\n",
       "      <td>Minister says she had ‘no role’ in approving M...</td>\n",
       "      <td>https://www.freemalaysiatoday.com/category/nat...</td>\n",
       "      <td>2021-10-09</td>\n",
       "    </tr>\n",
       "    <tr>\n",
       "      <th>1</th>\n",
       "      <td>Return your cars, CM tells exco members who quit</td>\n",
       "      <td>https://www.freemalaysiatoday.com/category/nat...</td>\n",
       "      <td>2021-10-09</td>\n",
       "    </tr>\n",
       "    <tr>\n",
       "      <th>2</th>\n",
       "      <td>Question mark over ‘toothless panels’ on Adib,...</td>\n",
       "      <td>https://www.freemalaysiatoday.com/category/nat...</td>\n",
       "      <td>2021-10-09</td>\n",
       "    </tr>\n",
       "    <tr>\n",
       "      <th>3</th>\n",
       "      <td>Melaka PN is strong enough without Umno, says ...</td>\n",
       "      <td>https://www.freemalaysiatoday.com/category/nat...</td>\n",
       "      <td>2021-10-09</td>\n",
       "    </tr>\n",
       "    <tr>\n",
       "      <th>4</th>\n",
       "      <td>8,743 Covid-19 cases, 14,422 recoveries</td>\n",
       "      <td>https://www.freemalaysiatoday.com/category/nat...</td>\n",
       "      <td>2021-10-09</td>\n",
       "    </tr>\n",
       "  </tbody>\n",
       "</table>\n",
       "</div>"
      ],
      "text/plain": [
       "                                               title  \\\n",
       "0  Minister says she had ‘no role’ in approving M...   \n",
       "1   Return your cars, CM tells exco members who quit   \n",
       "2  Question mark over ‘toothless panels’ on Adib,...   \n",
       "3  Melaka PN is strong enough without Umno, says ...   \n",
       "4            8,743 Covid-19 cases, 14,422 recoveries   \n",
       "\n",
       "                                                 url        date  \n",
       "0  https://www.freemalaysiatoday.com/category/nat...  2021-10-09  \n",
       "1  https://www.freemalaysiatoday.com/category/nat...  2021-10-09  \n",
       "2  https://www.freemalaysiatoday.com/category/nat...  2021-10-09  \n",
       "3  https://www.freemalaysiatoday.com/category/nat...  2021-10-09  \n",
       "4  https://www.freemalaysiatoday.com/category/nat...  2021-10-09  "
      ]
     },
     "execution_count": 2,
     "metadata": {},
     "output_type": "execute_result"
    }
   ],
   "source": [
    "df = pd.read_csv(\"imputed_fmt_9-10-21.csv\")\n",
    "df.head()"
   ]
  },
  {
   "cell_type": "markdown",
   "id": "bb075c81",
   "metadata": {},
   "source": [
    "First I remove all commas, because figures such as 1,000 are common in news headlines. Then, I tokenize the headlines and remove stop words."
   ]
  },
  {
   "cell_type": "code",
   "execution_count": 3,
   "id": "8ae35969",
   "metadata": {},
   "outputs": [
    {
     "name": "stdout",
     "output_type": "stream",
     "text": [
      "This, sample, sentence, showing, stop, words, filtration\n"
     ]
    }
   ],
   "source": [
    "from nltk.corpus import stopwords\n",
    "from nltk.tokenize import word_tokenize\n",
    "import re\n",
    "import string\n",
    "\n",
    "stop_words = set(stopwords.words('english'))\n",
    "\n",
    "def clean_text(text):\n",
    "    text = text.replace(',', '')\n",
    "    text = \" \".join(re.split('\\W+', text))\n",
    "    word_tokens = word_tokenize(text)\n",
    "    filtered_sentence = [w for w in word_tokens if not w.lower() in stop_words]\n",
    "\n",
    "    filtered_sentence = []\n",
    "\n",
    "    for w in word_tokens:\n",
    "        if w not in stop_words:\n",
    "            filtered_sentence.append(w)\n",
    "            \n",
    "    return (\", \".join(filtered_sentence))\n",
    "\n",
    "print(clean_text(\"This is a sample sentence, showing off the stop words filtration.\"))"
   ]
  },
  {
   "cell_type": "code",
   "execution_count": 4,
   "id": "5eea272a",
   "metadata": {},
   "outputs": [
    {
     "data": {
      "text/html": [
       "<div>\n",
       "<style scoped>\n",
       "    .dataframe tbody tr th:only-of-type {\n",
       "        vertical-align: middle;\n",
       "    }\n",
       "\n",
       "    .dataframe tbody tr th {\n",
       "        vertical-align: top;\n",
       "    }\n",
       "\n",
       "    .dataframe thead th {\n",
       "        text-align: right;\n",
       "    }\n",
       "</style>\n",
       "<table border=\"1\" class=\"dataframe\">\n",
       "  <thead>\n",
       "    <tr style=\"text-align: right;\">\n",
       "      <th></th>\n",
       "      <th>title</th>\n",
       "      <th>url</th>\n",
       "      <th>date</th>\n",
       "      <th>cleaned</th>\n",
       "    </tr>\n",
       "  </thead>\n",
       "  <tbody>\n",
       "    <tr>\n",
       "      <th>0</th>\n",
       "      <td>Minister says she had ‘no role’ in approving M...</td>\n",
       "      <td>https://www.freemalaysiatoday.com/category/nat...</td>\n",
       "      <td>2021-10-09</td>\n",
       "      <td>Minister, says, role, approving, Mitra, grants</td>\n",
       "    </tr>\n",
       "    <tr>\n",
       "      <th>1</th>\n",
       "      <td>Return your cars, CM tells exco members who quit</td>\n",
       "      <td>https://www.freemalaysiatoday.com/category/nat...</td>\n",
       "      <td>2021-10-09</td>\n",
       "      <td>Return, cars, CM, tells, exco, members, quit</td>\n",
       "    </tr>\n",
       "    <tr>\n",
       "      <th>2</th>\n",
       "      <td>Question mark over ‘toothless panels’ on Adib,...</td>\n",
       "      <td>https://www.freemalaysiatoday.com/category/nat...</td>\n",
       "      <td>2021-10-09</td>\n",
       "      <td>Question, mark, toothless, panels, Adib, Thomas</td>\n",
       "    </tr>\n",
       "    <tr>\n",
       "      <th>3</th>\n",
       "      <td>Melaka PN is strong enough without Umno, says ...</td>\n",
       "      <td>https://www.freemalaysiatoday.com/category/nat...</td>\n",
       "      <td>2021-10-09</td>\n",
       "      <td>Melaka, PN, strong, enough, without, Umno, say...</td>\n",
       "    </tr>\n",
       "    <tr>\n",
       "      <th>4</th>\n",
       "      <td>8,743 Covid-19 cases, 14,422 recoveries</td>\n",
       "      <td>https://www.freemalaysiatoday.com/category/nat...</td>\n",
       "      <td>2021-10-09</td>\n",
       "      <td>8743, Covid, 19, cases, 14422, recoveries</td>\n",
       "    </tr>\n",
       "  </tbody>\n",
       "</table>\n",
       "</div>"
      ],
      "text/plain": [
       "                                               title  \\\n",
       "0  Minister says she had ‘no role’ in approving M...   \n",
       "1   Return your cars, CM tells exco members who quit   \n",
       "2  Question mark over ‘toothless panels’ on Adib,...   \n",
       "3  Melaka PN is strong enough without Umno, says ...   \n",
       "4            8,743 Covid-19 cases, 14,422 recoveries   \n",
       "\n",
       "                                                 url        date  \\\n",
       "0  https://www.freemalaysiatoday.com/category/nat...  2021-10-09   \n",
       "1  https://www.freemalaysiatoday.com/category/nat...  2021-10-09   \n",
       "2  https://www.freemalaysiatoday.com/category/nat...  2021-10-09   \n",
       "3  https://www.freemalaysiatoday.com/category/nat...  2021-10-09   \n",
       "4  https://www.freemalaysiatoday.com/category/nat...  2021-10-09   \n",
       "\n",
       "                                             cleaned  \n",
       "0     Minister, says, role, approving, Mitra, grants  \n",
       "1       Return, cars, CM, tells, exco, members, quit  \n",
       "2    Question, mark, toothless, panels, Adib, Thomas  \n",
       "3  Melaka, PN, strong, enough, without, Umno, say...  \n",
       "4          8743, Covid, 19, cases, 14422, recoveries  "
      ]
     },
     "execution_count": 4,
     "metadata": {},
     "output_type": "execute_result"
    }
   ],
   "source": [
    "df['cleaned'] = df['title'].apply(clean_text)\n",
    "df.head()"
   ]
  },
  {
   "cell_type": "code",
   "execution_count": 5,
   "id": "971b4307",
   "metadata": {},
   "outputs": [
    {
     "data": {
      "text/html": [
       "<div>\n",
       "<style scoped>\n",
       "    .dataframe tbody tr th:only-of-type {\n",
       "        vertical-align: middle;\n",
       "    }\n",
       "\n",
       "    .dataframe tbody tr th {\n",
       "        vertical-align: top;\n",
       "    }\n",
       "\n",
       "    .dataframe thead th {\n",
       "        text-align: right;\n",
       "    }\n",
       "</style>\n",
       "<table border=\"1\" class=\"dataframe\">\n",
       "  <thead>\n",
       "    <tr style=\"text-align: right;\">\n",
       "      <th></th>\n",
       "      <th>date</th>\n",
       "      <th>cleaned</th>\n",
       "    </tr>\n",
       "  </thead>\n",
       "  <tbody>\n",
       "    <tr>\n",
       "      <th>0</th>\n",
       "      <td>2021-10-09</td>\n",
       "      <td>Minister, says, role, approving, Mitra, grants</td>\n",
       "    </tr>\n",
       "    <tr>\n",
       "      <th>1</th>\n",
       "      <td>2021-10-09</td>\n",
       "      <td>Return, cars, CM, tells, exco, members, quit</td>\n",
       "    </tr>\n",
       "    <tr>\n",
       "      <th>2</th>\n",
       "      <td>2021-10-09</td>\n",
       "      <td>Question, mark, toothless, panels, Adib, Thomas</td>\n",
       "    </tr>\n",
       "    <tr>\n",
       "      <th>3</th>\n",
       "      <td>2021-10-09</td>\n",
       "      <td>Melaka, PN, strong, enough, without, Umno, say...</td>\n",
       "    </tr>\n",
       "    <tr>\n",
       "      <th>4</th>\n",
       "      <td>2021-10-09</td>\n",
       "      <td>8743, Covid, 19, cases, 14422, recoveries</td>\n",
       "    </tr>\n",
       "  </tbody>\n",
       "</table>\n",
       "</div>"
      ],
      "text/plain": [
       "         date                                            cleaned\n",
       "0  2021-10-09     Minister, says, role, approving, Mitra, grants\n",
       "1  2021-10-09       Return, cars, CM, tells, exco, members, quit\n",
       "2  2021-10-09    Question, mark, toothless, panels, Adib, Thomas\n",
       "3  2021-10-09  Melaka, PN, strong, enough, without, Umno, say...\n",
       "4  2021-10-09          8743, Covid, 19, cases, 14422, recoveries"
      ]
     },
     "execution_count": 5,
     "metadata": {},
     "output_type": "execute_result"
    }
   ],
   "source": [
    "df = df.drop(['title', 'url'], axis = 1)\n",
    "df.head()"
   ]
  },
  {
   "cell_type": "code",
   "execution_count": 6,
   "id": "23cdb480",
   "metadata": {},
   "outputs": [
    {
     "data": {
      "text/html": [
       "<div>\n",
       "<style scoped>\n",
       "    .dataframe tbody tr th:only-of-type {\n",
       "        vertical-align: middle;\n",
       "    }\n",
       "\n",
       "    .dataframe tbody tr th {\n",
       "        vertical-align: top;\n",
       "    }\n",
       "\n",
       "    .dataframe thead th {\n",
       "        text-align: right;\n",
       "    }\n",
       "</style>\n",
       "<table border=\"1\" class=\"dataframe\">\n",
       "  <thead>\n",
       "    <tr style=\"text-align: right;\">\n",
       "      <th></th>\n",
       "      <th>date</th>\n",
       "      <th>cleaned</th>\n",
       "    </tr>\n",
       "  </thead>\n",
       "  <tbody>\n",
       "    <tr>\n",
       "      <th>0</th>\n",
       "      <td>2019-12-31</td>\n",
       "      <td>[PIA,  special,  flight,  brings,  home,  hund...</td>\n",
       "    </tr>\n",
       "    <tr>\n",
       "      <th>1</th>\n",
       "      <td>2020-01-01</td>\n",
       "      <td>[160,  caught,  smoking,  eateries,  first,  d...</td>\n",
       "    </tr>\n",
       "    <tr>\n",
       "      <th>2</th>\n",
       "      <td>2020-01-02</td>\n",
       "      <td>[Petition,  support,  Maszlee,  gets,  100000,...</td>\n",
       "    </tr>\n",
       "    <tr>\n",
       "      <th>3</th>\n",
       "      <td>2020-01-03</td>\n",
       "      <td>[No,  one,  recognises,  Mavcom,  civil,  avia...</td>\n",
       "    </tr>\n",
       "    <tr>\n",
       "      <th>4</th>\n",
       "      <td>2020-01-04</td>\n",
       "      <td>[PH,  discuss,  PM,  handover,  says,  Syed,  ...</td>\n",
       "    </tr>\n",
       "  </tbody>\n",
       "</table>\n",
       "</div>"
      ],
      "text/plain": [
       "         date                                            cleaned\n",
       "0  2019-12-31  [PIA,  special,  flight,  brings,  home,  hund...\n",
       "1  2020-01-01  [160,  caught,  smoking,  eateries,  first,  d...\n",
       "2  2020-01-02  [Petition,  support,  Maszlee,  gets,  100000,...\n",
       "3  2020-01-03  [No,  one,  recognises,  Mavcom,  civil,  avia...\n",
       "4  2020-01-04  [PH,  discuss,  PM,  handover,  says,  Syed,  ..."
      ]
     },
     "execution_count": 6,
     "metadata": {},
     "output_type": "execute_result"
    }
   ],
   "source": [
    "df = df.groupby(['date'])['cleaned'].apply(lambda x: ','.join(x)).reset_index()\n",
    "df['cleaned'] = df['cleaned'].apply(lambda x: x.split(\",\"))\n",
    "df.head()"
   ]
  },
  {
   "cell_type": "code",
   "execution_count": 7,
   "id": "71e88342",
   "metadata": {},
   "outputs": [
    {
     "data": {
      "text/plain": [
       "(649, 2)"
      ]
     },
     "execution_count": 7,
     "metadata": {},
     "output_type": "execute_result"
    }
   ],
   "source": [
    "df.shape"
   ]
  },
  {
   "cell_type": "code",
   "execution_count": 8,
   "id": "af6129c7",
   "metadata": {},
   "outputs": [
    {
     "data": {
      "text/html": [
       "<div>\n",
       "<style scoped>\n",
       "    .dataframe tbody tr th:only-of-type {\n",
       "        vertical-align: middle;\n",
       "    }\n",
       "\n",
       "    .dataframe tbody tr th {\n",
       "        vertical-align: top;\n",
       "    }\n",
       "\n",
       "    .dataframe thead th {\n",
       "        text-align: right;\n",
       "    }\n",
       "</style>\n",
       "<table border=\"1\" class=\"dataframe\">\n",
       "  <thead>\n",
       "    <tr style=\"text-align: right;\">\n",
       "      <th></th>\n",
       "      <th>date</th>\n",
       "      <th>cleaned</th>\n",
       "    </tr>\n",
       "  </thead>\n",
       "  <tbody>\n",
       "    <tr>\n",
       "      <th>1</th>\n",
       "      <td>2020-01-01</td>\n",
       "      <td>[160,  caught,  smoking,  eateries,  first,  d...</td>\n",
       "    </tr>\n",
       "    <tr>\n",
       "      <th>2</th>\n",
       "      <td>2020-01-02</td>\n",
       "      <td>[Petition,  support,  Maszlee,  gets,  100000,...</td>\n",
       "    </tr>\n",
       "    <tr>\n",
       "      <th>3</th>\n",
       "      <td>2020-01-03</td>\n",
       "      <td>[No,  one,  recognises,  Mavcom,  civil,  avia...</td>\n",
       "    </tr>\n",
       "    <tr>\n",
       "      <th>4</th>\n",
       "      <td>2020-01-04</td>\n",
       "      <td>[PH,  discuss,  PM,  handover,  says,  Syed,  ...</td>\n",
       "    </tr>\n",
       "    <tr>\n",
       "      <th>5</th>\n",
       "      <td>2020-01-05</td>\n",
       "      <td>[Umno,  make,  constitutional,  proposal,  say...</td>\n",
       "    </tr>\n",
       "  </tbody>\n",
       "</table>\n",
       "</div>"
      ],
      "text/plain": [
       "         date                                            cleaned\n",
       "1  2020-01-01  [160,  caught,  smoking,  eateries,  first,  d...\n",
       "2  2020-01-02  [Petition,  support,  Maszlee,  gets,  100000,...\n",
       "3  2020-01-03  [No,  one,  recognises,  Mavcom,  civil,  avia...\n",
       "4  2020-01-04  [PH,  discuss,  PM,  handover,  says,  Syed,  ...\n",
       "5  2020-01-05  [Umno,  make,  constitutional,  proposal,  say..."
      ]
     },
     "execution_count": 8,
     "metadata": {},
     "output_type": "execute_result"
    }
   ],
   "source": [
    "df.drop(index=df.index[0], \n",
    "        axis=0, \n",
    "        inplace=True)\n",
    "df.head()"
   ]
  },
  {
   "cell_type": "markdown",
   "id": "42c8e6c8",
   "metadata": {},
   "source": [
    "I want to create a word cloud, so I count the number of tokens. Then, I save to csv."
   ]
  },
  {
   "cell_type": "code",
   "execution_count": 9,
   "id": "e9a8bee8",
   "metadata": {},
   "outputs": [
    {
     "data": {
      "text/html": [
       "<div>\n",
       "<style scoped>\n",
       "    .dataframe tbody tr th:only-of-type {\n",
       "        vertical-align: middle;\n",
       "    }\n",
       "\n",
       "    .dataframe tbody tr th {\n",
       "        vertical-align: top;\n",
       "    }\n",
       "\n",
       "    .dataframe thead th {\n",
       "        text-align: right;\n",
       "    }\n",
       "</style>\n",
       "<table border=\"1\" class=\"dataframe\">\n",
       "  <thead>\n",
       "    <tr style=\"text-align: right;\">\n",
       "      <th></th>\n",
       "      <th>date</th>\n",
       "      <th>cleaned</th>\n",
       "      <th>counter</th>\n",
       "    </tr>\n",
       "  </thead>\n",
       "  <tbody>\n",
       "    <tr>\n",
       "      <th>1</th>\n",
       "      <td>2020-01-01</td>\n",
       "      <td>[160,  caught,  smoking,  eateries,  first,  d...</td>\n",
       "      <td>{'160': 1, ' caught': 1, ' smoking': 1, ' eate...</td>\n",
       "    </tr>\n",
       "    <tr>\n",
       "      <th>2</th>\n",
       "      <td>2020-01-02</td>\n",
       "      <td>[Petition,  support,  Maszlee,  gets,  100000,...</td>\n",
       "      <td>{'Petition': 1, ' support': 1, ' Maszlee': 4, ...</td>\n",
       "    </tr>\n",
       "    <tr>\n",
       "      <th>3</th>\n",
       "      <td>2020-01-03</td>\n",
       "      <td>[No,  one,  recognises,  Mavcom,  civil,  avia...</td>\n",
       "      <td>{'No': 1, ' one': 1, ' recognises': 1, ' Mavco...</td>\n",
       "    </tr>\n",
       "    <tr>\n",
       "      <th>4</th>\n",
       "      <td>2020-01-04</td>\n",
       "      <td>[PH,  discuss,  PM,  handover,  says,  Syed,  ...</td>\n",
       "      <td>{'PH': 1, ' discuss': 1, ' PM': 2, ' handover'...</td>\n",
       "    </tr>\n",
       "    <tr>\n",
       "      <th>5</th>\n",
       "      <td>2020-01-05</td>\n",
       "      <td>[Umno,  make,  constitutional,  proposal,  say...</td>\n",
       "      <td>{'Umno': 1, ' make': 1, ' constitutional': 1, ...</td>\n",
       "    </tr>\n",
       "  </tbody>\n",
       "</table>\n",
       "</div>"
      ],
      "text/plain": [
       "         date                                            cleaned  \\\n",
       "1  2020-01-01  [160,  caught,  smoking,  eateries,  first,  d...   \n",
       "2  2020-01-02  [Petition,  support,  Maszlee,  gets,  100000,...   \n",
       "3  2020-01-03  [No,  one,  recognises,  Mavcom,  civil,  avia...   \n",
       "4  2020-01-04  [PH,  discuss,  PM,  handover,  says,  Syed,  ...   \n",
       "5  2020-01-05  [Umno,  make,  constitutional,  proposal,  say...   \n",
       "\n",
       "                                             counter  \n",
       "1  {'160': 1, ' caught': 1, ' smoking': 1, ' eate...  \n",
       "2  {'Petition': 1, ' support': 1, ' Maszlee': 4, ...  \n",
       "3  {'No': 1, ' one': 1, ' recognises': 1, ' Mavco...  \n",
       "4  {'PH': 1, ' discuss': 1, ' PM': 2, ' handover'...  \n",
       "5  {'Umno': 1, ' make': 1, ' constitutional': 1, ...  "
      ]
     },
     "execution_count": 9,
     "metadata": {},
     "output_type": "execute_result"
    }
   ],
   "source": [
    "from collections import Counter\n",
    "\n",
    "df['counter'] = df['cleaned'].apply(lambda x: Counter(x))\n",
    "df.head()"
   ]
  },
  {
   "cell_type": "code",
   "execution_count": 10,
   "id": "11ce9322",
   "metadata": {},
   "outputs": [
    {
     "data": {
      "text/html": [
       "<div>\n",
       "<style scoped>\n",
       "    .dataframe tbody tr th:only-of-type {\n",
       "        vertical-align: middle;\n",
       "    }\n",
       "\n",
       "    .dataframe tbody tr th {\n",
       "        vertical-align: top;\n",
       "    }\n",
       "\n",
       "    .dataframe thead th {\n",
       "        text-align: right;\n",
       "    }\n",
       "</style>\n",
       "<table border=\"1\" class=\"dataframe\">\n",
       "  <thead>\n",
       "    <tr style=\"text-align: right;\">\n",
       "      <th></th>\n",
       "      <th>date</th>\n",
       "      <th>counter</th>\n",
       "    </tr>\n",
       "  </thead>\n",
       "  <tbody>\n",
       "    <tr>\n",
       "      <th>1</th>\n",
       "      <td>2020-01-01</td>\n",
       "      <td>{'160': 1, ' caught': 1, ' smoking': 1, ' eate...</td>\n",
       "    </tr>\n",
       "    <tr>\n",
       "      <th>2</th>\n",
       "      <td>2020-01-02</td>\n",
       "      <td>{'Petition': 1, ' support': 1, ' Maszlee': 4, ...</td>\n",
       "    </tr>\n",
       "    <tr>\n",
       "      <th>3</th>\n",
       "      <td>2020-01-03</td>\n",
       "      <td>{'No': 1, ' one': 1, ' recognises': 1, ' Mavco...</td>\n",
       "    </tr>\n",
       "    <tr>\n",
       "      <th>4</th>\n",
       "      <td>2020-01-04</td>\n",
       "      <td>{'PH': 1, ' discuss': 1, ' PM': 2, ' handover'...</td>\n",
       "    </tr>\n",
       "    <tr>\n",
       "      <th>5</th>\n",
       "      <td>2020-01-05</td>\n",
       "      <td>{'Umno': 1, ' make': 1, ' constitutional': 1, ...</td>\n",
       "    </tr>\n",
       "  </tbody>\n",
       "</table>\n",
       "</div>"
      ],
      "text/plain": [
       "         date                                            counter\n",
       "1  2020-01-01  {'160': 1, ' caught': 1, ' smoking': 1, ' eate...\n",
       "2  2020-01-02  {'Petition': 1, ' support': 1, ' Maszlee': 4, ...\n",
       "3  2020-01-03  {'No': 1, ' one': 1, ' recognises': 1, ' Mavco...\n",
       "4  2020-01-04  {'PH': 1, ' discuss': 1, ' PM': 2, ' handover'...\n",
       "5  2020-01-05  {'Umno': 1, ' make': 1, ' constitutional': 1, ..."
      ]
     },
     "execution_count": 10,
     "metadata": {},
     "output_type": "execute_result"
    }
   ],
   "source": [
    "df = df.drop(['cleaned'], axis = 1)\n",
    "df.head()"
   ]
  },
  {
   "cell_type": "code",
   "execution_count": 11,
   "id": "18ededd5",
   "metadata": {},
   "outputs": [],
   "source": [
    "df.to_csv(\"preprocessed_fmt_9-10-21.csv\", index=False)"
   ]
  },
  {
   "cell_type": "code",
   "execution_count": null,
   "id": "f241468f",
   "metadata": {},
   "outputs": [],
   "source": []
  }
 ],
 "metadata": {
  "kernelspec": {
   "display_name": "Python 3 (ipykernel)",
   "language": "python",
   "name": "python3"
  },
  "language_info": {
   "codemirror_mode": {
    "name": "ipython",
    "version": 3
   },
   "file_extension": ".py",
   "mimetype": "text/x-python",
   "name": "python",
   "nbconvert_exporter": "python",
   "pygments_lexer": "ipython3",
   "version": "3.8.10"
  }
 },
 "nbformat": 4,
 "nbformat_minor": 5
}
